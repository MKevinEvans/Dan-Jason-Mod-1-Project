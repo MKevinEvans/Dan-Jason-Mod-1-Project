{
 "cells": [
  {
   "cell_type": "markdown",
   "metadata": {},
   "source": [
    "# Data Cleaning:\n",
    "Upon collecting the data and exporting into a .csv file we imported it back to begin the cleaning process\n",
    "\n",
    "## Overview\n",
    "The web scrapping and API pull brought us a lot of usefull information for our analysis; however, there were a lot of ways that we cleamed the data with before we could dive further into our analysis. Using primarily Pandas we utilized a various range of its tools from: \n",
    "* Adding/Dropping: Columns & Rows\n",
    "* Lambda functions\n",
    "* Splits, Strips, Remove\n",
    "* Changing the type (ex: str -> int)\n",
    "* Subsetting"
   ]
  },
  {
   "cell_type": "markdown",
   "metadata": {},
   "source": [
    "### Import Packages"
   ]
  },
  {
   "cell_type": "code",
   "execution_count": 102,
   "metadata": {},
   "outputs": [],
   "source": [
    "import csv\n",
    "import pandas as pd\n",
    "import numpy as np"
   ]
  },
  {
   "cell_type": "markdown",
   "metadata": {},
   "source": [
    "### Import .csv into Pandas Data Frame"
   ]
  },
  {
   "cell_type": "code",
   "execution_count": 101,
   "metadata": {},
   "outputs": [],
   "source": [
    "df_final = pd.read_csv('final_movie_data.csv')"
   ]
  },
  {
   "cell_type": "code",
   "execution_count": 106,
   "metadata": {
    "scrolled": true
   },
   "outputs": [
    {
     "name": "stdout",
     "output_type": "stream",
     "text": [
      "<class 'pandas.core.frame.DataFrame'>\n",
      "RangeIndex: 3361 entries, 0 to 3360\n",
      "Data columns (total 32 columns):\n",
      "Unnamed: 0               3361 non-null int64\n",
      "Title                    3361 non-null object\n",
      "Rank_by_MPAA_Rating      3361 non-null object\n",
      "Domestic_Gross           3361 non-null object\n",
      "Overall_Rank             3361 non-null object\n",
      "Year                     3361 non-null object\n",
      "Rating                   3361 non-null object\n",
      "imdb_id                  3361 non-null object\n",
      "adult                    3361 non-null bool\n",
      "backdrop_path            3205 non-null object\n",
      "belongs_to_collection    1145 non-null object\n",
      "budget                   3361 non-null int64\n",
      "genres                   3361 non-null object\n",
      "homepage                 1382 non-null object\n",
      "id                       3361 non-null int64\n",
      "original_language        3361 non-null object\n",
      "original_title           3361 non-null object\n",
      "overview                 3360 non-null object\n",
      "popularity               3361 non-null float64\n",
      "poster_path              3348 non-null object\n",
      "production_companies     3361 non-null object\n",
      "production_countries     3361 non-null object\n",
      "release_date             3361 non-null object\n",
      "revenue                  3361 non-null int64\n",
      "runtime                  3361 non-null int64\n",
      "spoken_languages         3361 non-null object\n",
      "status                   3361 non-null object\n",
      "tagline                  3110 non-null object\n",
      "title                    3361 non-null object\n",
      "video                    3361 non-null bool\n",
      "vote_average             3361 non-null float64\n",
      "vote_count               3361 non-null int64\n",
      "dtypes: bool(2), float64(2), int64(6), object(22)\n",
      "memory usage: 794.4+ KB\n"
     ]
    }
   ],
   "source": [
    "# Quick search to overview what columns and types of data is in the data frame\n",
    "df_final.info()"
   ]
  },
  {
   "cell_type": "code",
   "execution_count": 108,
   "metadata": {
    "scrolled": false
   },
   "outputs": [
    {
     "data": {
      "text/plain": [
       "belongs_to_collection    2216\n",
       "homepage                 1979\n",
       "tagline                   251\n",
       "backdrop_path             156\n",
       "poster_path                13\n",
       "overview                    1\n",
       "vote_count                  0\n",
       "adult                       0\n",
       "budget                      0\n",
       "Rating                      0\n",
       "imdb_id                     0\n",
       "Year                        0\n",
       "Overall_Rank                0\n",
       "Domestic_Gross              0\n",
       "Rank_by_MPAA_Rating         0\n",
       "Title                       0\n",
       "genres                      0\n",
       "original_language           0\n",
       "id                          0\n",
       "vote_average                0\n",
       "original_title              0\n",
       "popularity                  0\n",
       "production_companies        0\n",
       "production_countries        0\n",
       "release_date                0\n",
       "revenue                     0\n",
       "runtime                     0\n",
       "spoken_languages            0\n",
       "status                      0\n",
       "title                       0\n",
       "video                       0\n",
       "Unnamed: 0                  0\n",
       "dtype: int64"
      ]
     },
     "execution_count": 108,
     "metadata": {},
     "output_type": "execute_result"
    }
   ],
   "source": [
    "# Show all the columns that have NaN values and sort high to low\n",
    "df_final.isnull().sum().sort_values(ascending = False)"
   ]
  },
  {
   "cell_type": "markdown",
   "metadata": {},
   "source": [
    "### Removing Columns & Rows\n",
    "\n",
    "There were a lot of columns that were deemed unnecessary or repeated so they were dropped in order to have only the essential data points needed.\n",
    "\n",
    "For the rows after further investigation we realized that there were empty [ ] under the production columns that needed to be removed first before we could utilize a lambda function to clean the data."
   ]
  },
  {
   "cell_type": "code",
   "execution_count": 109,
   "metadata": {},
   "outputs": [],
   "source": [
    "# Drop columns that are not needed in data set. This also took care of most of the NaN values\n",
    "df_final.drop(['homepage','tagline','backdrop_path','belongs_to_collection',\n",
    "               'poster_path','Unnamed: 0','adult','id','original_title',\n",
    "               'overview','spoken_languages','status','title','video',\n",
    "              'Rank_by_MPAA_Rating','Overall_Rank'], axis = 1, inplace = True)"
   ]
  },
  {
   "cell_type": "code",
   "execution_count": 110,
   "metadata": {},
   "outputs": [],
   "source": [
    "# Drop rows with [] as production company and production country\n",
    "df_final.drop([142,151,153,166,167,210,211,222,248,252,262,264,270,272,273,277,279,280,282,289,303,309,\n",
    "               310,312,317,320,324,327,337,339,341,347,348,350,354,356,357,358,850,954,1084,1111,1113,1179,\n",
    "               1217,1225,1243,1248,1260,1268,1275,1307,2037,2140,2317,170,228,246,338,342,891,962,1060,1109,\n",
    "               1192,1289,1311,2052,2264], inplace = True)"
   ]
  },
  {
   "cell_type": "code",
   "execution_count": 111,
   "metadata": {},
   "outputs": [
    {
     "data": {
      "text/plain": [
       "(3292, 16)"
      ]
     },
     "execution_count": 111,
     "metadata": {},
     "output_type": "execute_result"
    }
   ],
   "source": [
    "# Original data frame contained 3361 rows 32 columns\n",
    "df_final.shape"
   ]
  },
  {
   "cell_type": "markdown",
   "metadata": {},
   "source": [
    "### Cleaning Existing Columns & Creating New Columns\n",
    "\n",
    "For genres, production_companies & production_countries the columns contained a lot of clutter. To tackle this we created new columns by taking the one main genre, company and country from each row. We utilized various functions such as lambda, strip, split, and replace in order to clean the data."
   ]
  },
  {
   "cell_type": "code",
   "execution_count": 113,
   "metadata": {},
   "outputs": [
    {
     "data": {
      "text/plain": [
       "\"[{'id': 2, 'logo_path': '/wdrCwmRnLFJhEoH8GSfymY85KHT.png', 'name': 'Walt Disney Pictures', 'origin_country': 'US'}, {'id': 3, 'logo_path': '/1TjvGVDMYsj6JBxOAkUHpPEwLf7.png', 'name': 'Pixar', 'origin_country': 'US'}]\""
      ]
     },
     "execution_count": 113,
     "metadata": {},
     "output_type": "execute_result"
    }
   ],
   "source": [
    "# Before clean\n",
    "df_final['production_companies'][0]"
   ]
  },
  {
   "cell_type": "code",
   "execution_count": 114,
   "metadata": {},
   "outputs": [],
   "source": [
    "# Separate list of production companies to the main company by utilizing split\n",
    "df_final['main_production'] = df_final['production_companies'].map(lambda x: x.split(':')[3])\n",
    "df_final['main_production'] = df_final['main_production'].map(lambda x: x.split(',')[0])"
   ]
  },
  {
   "cell_type": "code",
   "execution_count": 118,
   "metadata": {},
   "outputs": [
    {
     "data": {
      "text/plain": [
       " 'Universal Pictures'             196\n",
       " 'Paramount'                      181\n",
       " 'Columbia Pictures'              132\n",
       " 'Walt Disney Pictures'           129\n",
       " 'New Line Cinema'                 76\n",
       "                                 ... \n",
       " 'MICA Entertainment'               1\n",
       " 'Lantica Media'                    1\n",
       " 'Monkey Dance Productions'         1\n",
       " 'Frank Yablans Presentations'      1\n",
       " 'Tatiale Films'                    1\n",
       "Name: main_production, Length: 1076, dtype: int64"
      ]
     },
     "execution_count": 118,
     "metadata": {},
     "output_type": "execute_result"
    }
   ],
   "source": [
    "# After cleaning shows Universal Pictures were responsible for creating the most movies\n",
    "df_final['main_production'].value_counts(ascending = False)"
   ]
  },
  {
   "cell_type": "code",
   "execution_count": 116,
   "metadata": {
    "scrolled": true
   },
   "outputs": [],
   "source": [
    "# Separate list of production ccountries to one country by utilizing split and replace\n",
    "df_final['main_production_country'] = df_final['production_countries'].map(lambda x: x.split(':')[2])\n",
    "df_final['main_production_country'] = df_final['main_production_country'].map(lambda x: x.split('{')[0])\n",
    "df_final['main_production_country'] = df_final['main_production_country'].map(lambda x: x.replace('}]',''))\n",
    "df_final['main_production_country'] = df_final['main_production_country'].map(lambda x: x.replace('},',''))"
   ]
  },
  {
   "cell_type": "code",
   "execution_count": 120,
   "metadata": {},
   "outputs": [
    {
     "data": {
      "text/plain": [
       " 'United States of America'     2420\n",
       " 'United Kingdom'                188\n",
       " 'Canada'                        109\n",
       " 'Germany'                       100\n",
       " 'United States of America'       85\n",
       " 'France'                         68\n",
       " 'Australia'                      50\n",
       " 'United Kingdom'                 36\n",
       " 'China'                          30\n",
       " 'Japan'                          20\n",
       " 'France'                         17\n",
       " 'Czech Republic'                 13\n",
       " 'New Zealand'                    12\n",
       " 'Japan'                          12\n",
       " 'Australia'                      11\n",
       " 'Hong Kong'                      11\n",
       " 'Ireland'                        11\n",
       " 'Spain'                          10\n",
       " 'Mexico'                          8\n",
       " 'India'                           8\n",
       " 'Italy'                           7\n",
       " 'Belgium'                         6\n",
       " 'Canada'                          6\n",
       " 'United Arab Emirates'            4\n",
       " 'China'                           3\n",
       " 'South Korea'                     3\n",
       " 'Sweden'                          3\n",
       " 'Denmark'                         3\n",
       " 'Mexico'                          2\n",
       " 'Finland'                         2\n",
       " 'Hungary'                         2\n",
       " 'Bulgaria'                        2\n",
       " 'South Africa'                    2\n",
       " 'Italy'                           2\n",
       " 'Iceland'                         2\n",
       " 'Mongolia'                        2\n",
       " 'Switzerland'                     2\n",
       " 'Hong Kong'                       1\n",
       " 'New Zealand'                     1\n",
       " 'Peru'                            1\n",
       " 'Netherlands'                     1\n",
       " 'Cuba'                            1\n",
       " 'Romania'                         1\n",
       " 'Cambodia'                        1\n",
       " 'Bhutan'                          1\n",
       " 'Singapore'                       1\n",
       " 'Brazil'                          1\n",
       " 'Bahamas'                         1\n",
       " 'Tanzania'                        1\n",
       " 'Denmark'                         1\n",
       " 'Iran'                            1\n",
       " 'Uruguay'                         1\n",
       " 'Russia'                          1\n",
       " 'Argentina'                       1\n",
       " 'Fiji'                            1\n",
       " 'Colombia'                        1\n",
       " 'Germany'                         1\n",
       "Name: main_production_country, dtype: int64"
      ]
     },
     "execution_count": 120,
     "metadata": {},
     "output_type": "execute_result"
    }
   ],
   "source": [
    "# US companies are responsible for almost all of the worldwide blockbuster movies\n",
    "df_final['main_production_country'].value_counts(ascending = False)"
   ]
  },
  {
   "cell_type": "code",
   "execution_count": 122,
   "metadata": {
    "scrolled": true
   },
   "outputs": [],
   "source": [
    "# Separate list of genres for each movie into one main genre to categorize by utilizing split and replace\n",
    "df_final['main_genre'] = df_final['genres'].map(lambda x: x.split(':')[2]).str.replace('}, ','')\n",
    "df_final['main_genre'] = df_final['main_genre'].map(lambda x: x.split('{')[0])\n",
    "df_final['main_genre'] = df_final['main_genre'].map(lambda x: x.replace('}]',''))"
   ]
  },
  {
   "cell_type": "code",
   "execution_count": 123,
   "metadata": {},
   "outputs": [
    {
     "data": {
      "text/plain": [
       " 'Comedy'             798\n",
       " 'Drama'              561\n",
       " 'Action'             554\n",
       " 'Adventure'          350\n",
       " 'Animation'          165\n",
       " 'Horror'             155\n",
       " 'Crime'              121\n",
       " 'Fantasy'            117\n",
       " 'Thriller'           113\n",
       " 'Science Fiction'     75\n",
       " 'Family'              69\n",
       " 'Romance'             65\n",
       " 'Documentary'         58\n",
       " 'Mystery'             31\n",
       " 'Music'               21\n",
       " 'Western'             15\n",
       " 'History'             13\n",
       " 'War'                 11\n",
       "Name: main_genre, dtype: int64"
      ]
     },
     "execution_count": 123,
     "metadata": {},
     "output_type": "execute_result"
    }
   ],
   "source": [
    "# Comedy is the most popular genre for blockbuster movies\n",
    "df_final['main_genre'].value_counts(ascending = False)"
   ]
  },
  {
   "cell_type": "markdown",
   "metadata": {},
   "source": [
    "### Formatting Financial Numbers\n",
    "\n",
    "The financial numbers from the Box Office Mojo web scrapping came in as strings with symbols ($,). In order to compare and manipulate all the financial numbers together we reformatted these columns to all be integers without any symbols.\n",
    "\n",
    "Additionally, we were able to calculate **foreign investments** by subtracting **domestic revenue** from Box Office Mojo from **total revenue** from TMDB"
   ]
  },
  {
   "cell_type": "code",
   "execution_count": 124,
   "metadata": {},
   "outputs": [],
   "source": [
    "# Matched Domestic_Gross by removing $ and , also changing to an int\n",
    "df_final['Domestic_Gross'] = df_final['Domestic_Gross'].map(lambda x: x.strip('$'))\n",
    "df_final['Domestic_Gross'] = df_final['Domestic_Gross'].map(lambda x: x.replace(',',''))\n",
    "df_final['Domestic_Gross'] = df_final['Domestic_Gross'].astype(int)"
   ]
  },
  {
   "cell_type": "code",
   "execution_count": 125,
   "metadata": {},
   "outputs": [],
   "source": [
    "# Calculated Foreign_Gross revenue numbers by subtracting Domestic from the total revenue\n",
    "df_final['Foreign_Gross'] = df_final['revenue'] - df_final['Domestic_Gross']"
   ]
  },
  {
   "cell_type": "code",
   "execution_count": 126,
   "metadata": {},
   "outputs": [],
   "source": [
    "# Calculated Profit by subtracting revenue by budget\n",
    "df_final['Profit'] = df_final['revenue'] - df_final['budget']"
   ]
  },
  {
   "cell_type": "code",
   "execution_count": 127,
   "metadata": {
    "scrolled": true
   },
   "outputs": [
    {
     "data": {
      "text/html": [
       "<div>\n",
       "<style scoped>\n",
       "    .dataframe tbody tr th:only-of-type {\n",
       "        vertical-align: middle;\n",
       "    }\n",
       "\n",
       "    .dataframe tbody tr th {\n",
       "        vertical-align: top;\n",
       "    }\n",
       "\n",
       "    .dataframe thead th {\n",
       "        text-align: right;\n",
       "    }\n",
       "</style>\n",
       "<table border=\"1\" class=\"dataframe\">\n",
       "  <thead>\n",
       "    <tr style=\"text-align: right;\">\n",
       "      <th></th>\n",
       "      <th>Title</th>\n",
       "      <th>Domestic_Gross</th>\n",
       "      <th>Year</th>\n",
       "      <th>Rating</th>\n",
       "      <th>imdb_id</th>\n",
       "      <th>budget</th>\n",
       "      <th>genres</th>\n",
       "      <th>original_language</th>\n",
       "      <th>popularity</th>\n",
       "      <th>production_companies</th>\n",
       "      <th>...</th>\n",
       "      <th>release_date</th>\n",
       "      <th>revenue</th>\n",
       "      <th>runtime</th>\n",
       "      <th>vote_average</th>\n",
       "      <th>vote_count</th>\n",
       "      <th>main_production</th>\n",
       "      <th>main_production_country</th>\n",
       "      <th>main_genre</th>\n",
       "      <th>Foreign_Gross</th>\n",
       "      <th>Profit</th>\n",
       "    </tr>\n",
       "  </thead>\n",
       "  <tbody>\n",
       "    <tr>\n",
       "      <td>0</td>\n",
       "      <td>Toy Story 4</td>\n",
       "      <td>434038008</td>\n",
       "      <td>2019</td>\n",
       "      <td>G</td>\n",
       "      <td>tt1979376</td>\n",
       "      <td>175000000</td>\n",
       "      <td>[{'id': 12, 'name': 'Adventure'}, {'id': 16, '...</td>\n",
       "      <td>en</td>\n",
       "      <td>34.489</td>\n",
       "      <td>[{'id': 2, 'logo_path': '/wdrCwmRnLFJhEoH8GSfy...</td>\n",
       "      <td>...</td>\n",
       "      <td>2019-06-19</td>\n",
       "      <td>1073394593</td>\n",
       "      <td>100</td>\n",
       "      <td>7.6</td>\n",
       "      <td>5029</td>\n",
       "      <td>'Walt Disney Pictures'</td>\n",
       "      <td>'United States of America'</td>\n",
       "      <td>'Adventure'</td>\n",
       "      <td>639356585</td>\n",
       "      <td>898394593</td>\n",
       "    </tr>\n",
       "    <tr>\n",
       "      <td>1</td>\n",
       "      <td>The Lion King</td>\n",
       "      <td>422783777</td>\n",
       "      <td>1994</td>\n",
       "      <td>G</td>\n",
       "      <td>tt0110357</td>\n",
       "      <td>45000000</td>\n",
       "      <td>[{'id': 10751, 'name': 'Family'}, {'id': 16, '...</td>\n",
       "      <td>en</td>\n",
       "      <td>32.284</td>\n",
       "      <td>[{'id': 2, 'logo_path': '/wdrCwmRnLFJhEoH8GSfy...</td>\n",
       "      <td>...</td>\n",
       "      <td>1994-05-07</td>\n",
       "      <td>987483777</td>\n",
       "      <td>89</td>\n",
       "      <td>8.3</td>\n",
       "      <td>12393</td>\n",
       "      <td>'Walt Disney Pictures'</td>\n",
       "      <td>'United States of America'</td>\n",
       "      <td>'Family'</td>\n",
       "      <td>564700000</td>\n",
       "      <td>942483777</td>\n",
       "    </tr>\n",
       "    <tr>\n",
       "      <td>2</td>\n",
       "      <td>Toy Story 3</td>\n",
       "      <td>415004880</td>\n",
       "      <td>2010</td>\n",
       "      <td>G</td>\n",
       "      <td>tt0435761</td>\n",
       "      <td>200000000</td>\n",
       "      <td>[{'id': 16, 'name': 'Animation'}, {'id': 10751...</td>\n",
       "      <td>en</td>\n",
       "      <td>27.214</td>\n",
       "      <td>[{'id': 3, 'logo_path': '/1TjvGVDMYsj6JBxOAkUH...</td>\n",
       "      <td>...</td>\n",
       "      <td>2010-06-16</td>\n",
       "      <td>1066969703</td>\n",
       "      <td>103</td>\n",
       "      <td>7.8</td>\n",
       "      <td>10168</td>\n",
       "      <td>'Pixar'</td>\n",
       "      <td>'United States of America'</td>\n",
       "      <td>'Animation'</td>\n",
       "      <td>651964823</td>\n",
       "      <td>866969703</td>\n",
       "    </tr>\n",
       "    <tr>\n",
       "      <td>3</td>\n",
       "      <td>Finding Nemo</td>\n",
       "      <td>380843261</td>\n",
       "      <td>2003</td>\n",
       "      <td>G</td>\n",
       "      <td>tt0266543</td>\n",
       "      <td>94000000</td>\n",
       "      <td>[{'id': 16, 'name': 'Animation'}, {'id': 10751...</td>\n",
       "      <td>en</td>\n",
       "      <td>34.417</td>\n",
       "      <td>[{'id': 3, 'logo_path': '/1TjvGVDMYsj6JBxOAkUH...</td>\n",
       "      <td>...</td>\n",
       "      <td>2003-05-30</td>\n",
       "      <td>940335536</td>\n",
       "      <td>100</td>\n",
       "      <td>7.8</td>\n",
       "      <td>13547</td>\n",
       "      <td>'Pixar'</td>\n",
       "      <td>'United States of America'</td>\n",
       "      <td>'Animation'</td>\n",
       "      <td>559492275</td>\n",
       "      <td>846335536</td>\n",
       "    </tr>\n",
       "    <tr>\n",
       "      <td>4</td>\n",
       "      <td>Monsters, Inc.</td>\n",
       "      <td>289916256</td>\n",
       "      <td>2001</td>\n",
       "      <td>G</td>\n",
       "      <td>tt0198781</td>\n",
       "      <td>115000000</td>\n",
       "      <td>[{'id': 16, 'name': 'Animation'}, {'id': 35, '...</td>\n",
       "      <td>en</td>\n",
       "      <td>41.313</td>\n",
       "      <td>[{'id': 3, 'logo_path': '/1TjvGVDMYsj6JBxOAkUH...</td>\n",
       "      <td>...</td>\n",
       "      <td>2001-11-01</td>\n",
       "      <td>562816256</td>\n",
       "      <td>92</td>\n",
       "      <td>7.8</td>\n",
       "      <td>12668</td>\n",
       "      <td>'Pixar'</td>\n",
       "      <td>'United States of America'</td>\n",
       "      <td>'Animation'</td>\n",
       "      <td>272900000</td>\n",
       "      <td>447816256</td>\n",
       "    </tr>\n",
       "  </tbody>\n",
       "</table>\n",
       "<p>5 rows × 21 columns</p>\n",
       "</div>"
      ],
      "text/plain": [
       "            Title  Domestic_Gross  Year Rating    imdb_id     budget  \\\n",
       "0     Toy Story 4       434038008  2019      G  tt1979376  175000000   \n",
       "1   The Lion King       422783777  1994      G  tt0110357   45000000   \n",
       "2     Toy Story 3       415004880  2010      G  tt0435761  200000000   \n",
       "3    Finding Nemo       380843261  2003      G  tt0266543   94000000   \n",
       "4  Monsters, Inc.       289916256  2001      G  tt0198781  115000000   \n",
       "\n",
       "                                              genres original_language  \\\n",
       "0  [{'id': 12, 'name': 'Adventure'}, {'id': 16, '...                en   \n",
       "1  [{'id': 10751, 'name': 'Family'}, {'id': 16, '...                en   \n",
       "2  [{'id': 16, 'name': 'Animation'}, {'id': 10751...                en   \n",
       "3  [{'id': 16, 'name': 'Animation'}, {'id': 10751...                en   \n",
       "4  [{'id': 16, 'name': 'Animation'}, {'id': 35, '...                en   \n",
       "\n",
       "   popularity                               production_companies  ...  \\\n",
       "0      34.489  [{'id': 2, 'logo_path': '/wdrCwmRnLFJhEoH8GSfy...  ...   \n",
       "1      32.284  [{'id': 2, 'logo_path': '/wdrCwmRnLFJhEoH8GSfy...  ...   \n",
       "2      27.214  [{'id': 3, 'logo_path': '/1TjvGVDMYsj6JBxOAkUH...  ...   \n",
       "3      34.417  [{'id': 3, 'logo_path': '/1TjvGVDMYsj6JBxOAkUH...  ...   \n",
       "4      41.313  [{'id': 3, 'logo_path': '/1TjvGVDMYsj6JBxOAkUH...  ...   \n",
       "\n",
       "  release_date     revenue  runtime  vote_average  vote_count  \\\n",
       "0   2019-06-19  1073394593      100           7.6        5029   \n",
       "1   1994-05-07   987483777       89           8.3       12393   \n",
       "2   2010-06-16  1066969703      103           7.8       10168   \n",
       "3   2003-05-30   940335536      100           7.8       13547   \n",
       "4   2001-11-01   562816256       92           7.8       12668   \n",
       "\n",
       "           main_production      main_production_country    main_genre  \\\n",
       "0   'Walt Disney Pictures'   'United States of America'   'Adventure'   \n",
       "1   'Walt Disney Pictures'   'United States of America'      'Family'   \n",
       "2                  'Pixar'   'United States of America'   'Animation'   \n",
       "3                  'Pixar'   'United States of America'   'Animation'   \n",
       "4                  'Pixar'   'United States of America'   'Animation'   \n",
       "\n",
       "  Foreign_Gross     Profit  \n",
       "0     639356585  898394593  \n",
       "1     564700000  942483777  \n",
       "2     651964823  866969703  \n",
       "3     559492275  846335536  \n",
       "4     272900000  447816256  \n",
       "\n",
       "[5 rows x 21 columns]"
      ]
     },
     "execution_count": 127,
     "metadata": {},
     "output_type": "execute_result"
    }
   ],
   "source": [
    "df_final.head()"
   ]
  },
  {
   "cell_type": "markdown",
   "metadata": {},
   "source": [
    "### Subsetting\n",
    "\n",
    "We quickly realized that not all of the information coming from TMDB were accurate. In TMDB there were movies that were listed as 0 in revenue or just a few $. On the flip side, Box Office Mojo has reliable financial numbers. In order to prevent these outliers from skewing our data we removed any movies where there were 0 in revenue or large discrepencies between the two data sources."
   ]
  },
  {
   "cell_type": "code",
   "execution_count": 132,
   "metadata": {
    "scrolled": true
   },
   "outputs": [
    {
     "data": {
      "text/html": [
       "<div>\n",
       "<style scoped>\n",
       "    .dataframe tbody tr th:only-of-type {\n",
       "        vertical-align: middle;\n",
       "    }\n",
       "\n",
       "    .dataframe tbody tr th {\n",
       "        vertical-align: top;\n",
       "    }\n",
       "\n",
       "    .dataframe thead th {\n",
       "        text-align: right;\n",
       "    }\n",
       "</style>\n",
       "<table border=\"1\" class=\"dataframe\">\n",
       "  <thead>\n",
       "    <tr style=\"text-align: right;\">\n",
       "      <th></th>\n",
       "      <th>Title</th>\n",
       "      <th>Domestic_Gross</th>\n",
       "      <th>Year</th>\n",
       "      <th>Rating</th>\n",
       "      <th>imdb_id</th>\n",
       "      <th>budget</th>\n",
       "      <th>genres</th>\n",
       "      <th>original_language</th>\n",
       "      <th>popularity</th>\n",
       "      <th>production_companies</th>\n",
       "      <th>...</th>\n",
       "      <th>release_date</th>\n",
       "      <th>revenue</th>\n",
       "      <th>runtime</th>\n",
       "      <th>vote_average</th>\n",
       "      <th>vote_count</th>\n",
       "      <th>main_production</th>\n",
       "      <th>main_production_country</th>\n",
       "      <th>main_genre</th>\n",
       "      <th>Foreign_Gross</th>\n",
       "      <th>Profit</th>\n",
       "    </tr>\n",
       "  </thead>\n",
       "  <tbody>\n",
       "    <tr>\n",
       "      <td>0</td>\n",
       "      <td>Toy Story 4</td>\n",
       "      <td>434038008</td>\n",
       "      <td>2019</td>\n",
       "      <td>G</td>\n",
       "      <td>tt1979376</td>\n",
       "      <td>175000000</td>\n",
       "      <td>[{'id': 12, 'name': 'Adventure'}, {'id': 16, '...</td>\n",
       "      <td>en</td>\n",
       "      <td>34.489</td>\n",
       "      <td>[{'id': 2, 'logo_path': '/wdrCwmRnLFJhEoH8GSfy...</td>\n",
       "      <td>...</td>\n",
       "      <td>2019-06-19</td>\n",
       "      <td>1073394593</td>\n",
       "      <td>100</td>\n",
       "      <td>7.6</td>\n",
       "      <td>5029</td>\n",
       "      <td>'Walt Disney Pictures'</td>\n",
       "      <td>'United States of America'</td>\n",
       "      <td>'Adventure'</td>\n",
       "      <td>639356585</td>\n",
       "      <td>898394593</td>\n",
       "    </tr>\n",
       "    <tr>\n",
       "      <td>1</td>\n",
       "      <td>The Lion King</td>\n",
       "      <td>422783777</td>\n",
       "      <td>1994</td>\n",
       "      <td>G</td>\n",
       "      <td>tt0110357</td>\n",
       "      <td>45000000</td>\n",
       "      <td>[{'id': 10751, 'name': 'Family'}, {'id': 16, '...</td>\n",
       "      <td>en</td>\n",
       "      <td>32.284</td>\n",
       "      <td>[{'id': 2, 'logo_path': '/wdrCwmRnLFJhEoH8GSfy...</td>\n",
       "      <td>...</td>\n",
       "      <td>1994-05-07</td>\n",
       "      <td>987483777</td>\n",
       "      <td>89</td>\n",
       "      <td>8.3</td>\n",
       "      <td>12393</td>\n",
       "      <td>'Walt Disney Pictures'</td>\n",
       "      <td>'United States of America'</td>\n",
       "      <td>'Family'</td>\n",
       "      <td>564700000</td>\n",
       "      <td>942483777</td>\n",
       "    </tr>\n",
       "    <tr>\n",
       "      <td>2</td>\n",
       "      <td>Toy Story 3</td>\n",
       "      <td>415004880</td>\n",
       "      <td>2010</td>\n",
       "      <td>G</td>\n",
       "      <td>tt0435761</td>\n",
       "      <td>200000000</td>\n",
       "      <td>[{'id': 16, 'name': 'Animation'}, {'id': 10751...</td>\n",
       "      <td>en</td>\n",
       "      <td>27.214</td>\n",
       "      <td>[{'id': 3, 'logo_path': '/1TjvGVDMYsj6JBxOAkUH...</td>\n",
       "      <td>...</td>\n",
       "      <td>2010-06-16</td>\n",
       "      <td>1066969703</td>\n",
       "      <td>103</td>\n",
       "      <td>7.8</td>\n",
       "      <td>10168</td>\n",
       "      <td>'Pixar'</td>\n",
       "      <td>'United States of America'</td>\n",
       "      <td>'Animation'</td>\n",
       "      <td>651964823</td>\n",
       "      <td>866969703</td>\n",
       "    </tr>\n",
       "    <tr>\n",
       "      <td>3</td>\n",
       "      <td>Finding Nemo</td>\n",
       "      <td>380843261</td>\n",
       "      <td>2003</td>\n",
       "      <td>G</td>\n",
       "      <td>tt0266543</td>\n",
       "      <td>94000000</td>\n",
       "      <td>[{'id': 16, 'name': 'Animation'}, {'id': 10751...</td>\n",
       "      <td>en</td>\n",
       "      <td>34.417</td>\n",
       "      <td>[{'id': 3, 'logo_path': '/1TjvGVDMYsj6JBxOAkUH...</td>\n",
       "      <td>...</td>\n",
       "      <td>2003-05-30</td>\n",
       "      <td>940335536</td>\n",
       "      <td>100</td>\n",
       "      <td>7.8</td>\n",
       "      <td>13547</td>\n",
       "      <td>'Pixar'</td>\n",
       "      <td>'United States of America'</td>\n",
       "      <td>'Animation'</td>\n",
       "      <td>559492275</td>\n",
       "      <td>846335536</td>\n",
       "    </tr>\n",
       "    <tr>\n",
       "      <td>4</td>\n",
       "      <td>Monsters, Inc.</td>\n",
       "      <td>289916256</td>\n",
       "      <td>2001</td>\n",
       "      <td>G</td>\n",
       "      <td>tt0198781</td>\n",
       "      <td>115000000</td>\n",
       "      <td>[{'id': 16, 'name': 'Animation'}, {'id': 35, '...</td>\n",
       "      <td>en</td>\n",
       "      <td>41.313</td>\n",
       "      <td>[{'id': 3, 'logo_path': '/1TjvGVDMYsj6JBxOAkUH...</td>\n",
       "      <td>...</td>\n",
       "      <td>2001-11-01</td>\n",
       "      <td>562816256</td>\n",
       "      <td>92</td>\n",
       "      <td>7.8</td>\n",
       "      <td>12668</td>\n",
       "      <td>'Pixar'</td>\n",
       "      <td>'United States of America'</td>\n",
       "      <td>'Animation'</td>\n",
       "      <td>272900000</td>\n",
       "      <td>447816256</td>\n",
       "    </tr>\n",
       "  </tbody>\n",
       "</table>\n",
       "<p>5 rows × 21 columns</p>\n",
       "</div>"
      ],
      "text/plain": [
       "            Title  Domestic_Gross  Year Rating    imdb_id     budget  \\\n",
       "0     Toy Story 4       434038008  2019      G  tt1979376  175000000   \n",
       "1   The Lion King       422783777  1994      G  tt0110357   45000000   \n",
       "2     Toy Story 3       415004880  2010      G  tt0435761  200000000   \n",
       "3    Finding Nemo       380843261  2003      G  tt0266543   94000000   \n",
       "4  Monsters, Inc.       289916256  2001      G  tt0198781  115000000   \n",
       "\n",
       "                                              genres original_language  \\\n",
       "0  [{'id': 12, 'name': 'Adventure'}, {'id': 16, '...                en   \n",
       "1  [{'id': 10751, 'name': 'Family'}, {'id': 16, '...                en   \n",
       "2  [{'id': 16, 'name': 'Animation'}, {'id': 10751...                en   \n",
       "3  [{'id': 16, 'name': 'Animation'}, {'id': 10751...                en   \n",
       "4  [{'id': 16, 'name': 'Animation'}, {'id': 35, '...                en   \n",
       "\n",
       "   popularity                               production_companies  ...  \\\n",
       "0      34.489  [{'id': 2, 'logo_path': '/wdrCwmRnLFJhEoH8GSfy...  ...   \n",
       "1      32.284  [{'id': 2, 'logo_path': '/wdrCwmRnLFJhEoH8GSfy...  ...   \n",
       "2      27.214  [{'id': 3, 'logo_path': '/1TjvGVDMYsj6JBxOAkUH...  ...   \n",
       "3      34.417  [{'id': 3, 'logo_path': '/1TjvGVDMYsj6JBxOAkUH...  ...   \n",
       "4      41.313  [{'id': 3, 'logo_path': '/1TjvGVDMYsj6JBxOAkUH...  ...   \n",
       "\n",
       "  release_date     revenue  runtime  vote_average  vote_count  \\\n",
       "0   2019-06-19  1073394593      100           7.6        5029   \n",
       "1   1994-05-07   987483777       89           8.3       12393   \n",
       "2   2010-06-16  1066969703      103           7.8       10168   \n",
       "3   2003-05-30   940335536      100           7.8       13547   \n",
       "4   2001-11-01   562816256       92           7.8       12668   \n",
       "\n",
       "           main_production      main_production_country    main_genre  \\\n",
       "0   'Walt Disney Pictures'   'United States of America'   'Adventure'   \n",
       "1   'Walt Disney Pictures'   'United States of America'      'Family'   \n",
       "2                  'Pixar'   'United States of America'   'Animation'   \n",
       "3                  'Pixar'   'United States of America'   'Animation'   \n",
       "4                  'Pixar'   'United States of America'   'Animation'   \n",
       "\n",
       "  Foreign_Gross     Profit  \n",
       "0     639356585  898394593  \n",
       "1     564700000  942483777  \n",
       "2     651964823  866969703  \n",
       "3     559492275  846335536  \n",
       "4     272900000  447816256  \n",
       "\n",
       "[5 rows x 21 columns]"
      ]
     },
     "execution_count": 132,
     "metadata": {},
     "output_type": "execute_result"
    }
   ],
   "source": [
    "# We created a new data frame that would filter out any rows where the revenue numbers were incorrect\n",
    "df = df_final[df_final['revenue'] >= df_final['Domestic_Gross']]\n",
    "df.head()"
   ]
  },
  {
   "cell_type": "code",
   "execution_count": 133,
   "metadata": {
    "scrolled": true
   },
   "outputs": [
    {
     "data": {
      "text/plain": [
       "(2728, 21)"
      ]
     },
     "execution_count": 133,
     "metadata": {},
     "output_type": "execute_result"
    }
   ],
   "source": [
    "df.shape"
   ]
  },
  {
   "cell_type": "markdown",
   "metadata": {},
   "source": [
    "### Export CSV File"
   ]
  },
  {
   "cell_type": "code",
   "execution_count": 134,
   "metadata": {},
   "outputs": [],
   "source": [
    "# Export the new cleaned data frame into a csv to be able to use for data visualizations\n",
    "import csv\n",
    "df.to_csv('cleaned_final_movie_data.csv')"
   ]
  }
 ],
 "metadata": {
  "kernelspec": {
   "display_name": "Python 3",
   "language": "python",
   "name": "python3"
  },
  "language_info": {
   "codemirror_mode": {
    "name": "ipython",
    "version": 3
   },
   "file_extension": ".py",
   "mimetype": "text/x-python",
   "name": "python",
   "nbconvert_exporter": "python",
   "pygments_lexer": "ipython3",
   "version": "3.6.9"
  }
 },
 "nbformat": 4,
 "nbformat_minor": 2
}
