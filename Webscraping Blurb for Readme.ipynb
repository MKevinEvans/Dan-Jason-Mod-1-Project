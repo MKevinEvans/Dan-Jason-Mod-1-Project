{
 "cells": [
  {
   "cell_type": "markdown",
   "metadata": {},
   "source": [
    "## Gathering Initial Data Set by Web Scraping"
   ]
  },
  {
   "cell_type": "markdown",
   "metadata": {},
   "source": [
    "**We identified the webpages, from Box Office Mojo, which would allow us to scrape as much data as possible and compiled them in to a list. These webpages corresponded to the top 1000 movies in each MPAA Rating Category, (G, PG, PG-13, R). We created a few functions that loop through the list of Urls and gather all data displayed on the page for each movie. Most importantly each URL in the list had multiple pages we would need to search through making it a need to extract that information from the \"Soup\" to iterate over them and continue on to the next URL in the original list.**\n",
    "\n",
    "**When the function was done looping through all of the webpages we would get a list of movie details and the IMDB id for each movie. A Pandas DataFrame was created with this information and the IMDB id's were then used to gather even more information on the movies we scraped from the web.**"
   ]
  },
  {
   "cell_type": "code",
   "execution_count": null,
   "metadata": {},
   "outputs": [],
   "source": []
  }
 ],
 "metadata": {
  "kernelspec": {
   "display_name": "Python 3",
   "language": "python",
   "name": "python3"
  },
  "language_info": {
   "codemirror_mode": {
    "name": "ipython",
    "version": 3
   },
   "file_extension": ".py",
   "mimetype": "text/x-python",
   "name": "python",
   "nbconvert_exporter": "python",
   "pygments_lexer": "ipython3",
   "version": "3.7.6"
  }
 },
 "nbformat": 4,
 "nbformat_minor": 4
}
